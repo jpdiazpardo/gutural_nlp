{
  "nbformat": 4,
  "nbformat_minor": 0,
  "metadata": {
    "colab": {
      "provenance": []
    },
    "kernelspec": {
      "name": "python3",
      "display_name": "Python 3"
    },
    "language_info": {
      "name": "python"
    }
  },
  "cells": [
    {
      "cell_type": "code",
      "source": [
        "!pip install syncedlyrics --quiet"
      ],
      "metadata": {
        "id": "rPtg4BlFpP2k",
        "colab": {
          "base_uri": "https://localhost:8080/"
        },
        "outputId": "088b82f3-5ff2-4eee-bf06-2048bec3a789"
      },
      "execution_count": 1,
      "outputs": [
        {
          "output_type": "stream",
          "name": "stdout",
          "text": [
            "\u001b[?25l     \u001b[90m━━━━━━━━━━━━━━━━━━━━━━━━━━━━━━━━━━━━━━━━\u001b[0m \u001b[32m0.0/3.0 MB\u001b[0m \u001b[31m?\u001b[0m eta \u001b[36m-:--:--\u001b[0m\r\u001b[2K     \u001b[91m━━━━━━━━━━━━━━━━━━━━━━━━━━━━━\u001b[0m\u001b[91m╸\u001b[0m\u001b[90m━━━━━━━━━━\u001b[0m \u001b[32m2.3/3.0 MB\u001b[0m \u001b[31m67.0 MB/s\u001b[0m eta \u001b[36m0:00:01\u001b[0m\r\u001b[2K     \u001b[91m━━━━━━━━━━━━━━━━━━━━━━━━━━━━━━━━━━━━━━━\u001b[0m\u001b[91m╸\u001b[0m \u001b[32m3.0/3.0 MB\u001b[0m \u001b[31m54.5 MB/s\u001b[0m eta \u001b[36m0:00:01\u001b[0m\r\u001b[2K     \u001b[90m━━━━━━━━━━━━━━━━━━━━━━━━━━━━━━━━━━━━━━━━\u001b[0m \u001b[32m3.0/3.0 MB\u001b[0m \u001b[31m41.1 MB/s\u001b[0m eta \u001b[36m0:00:00\u001b[0m\n",
            "\u001b[?25h"
          ]
        }
      ]
    },
    {
      "cell_type": "code",
      "source": [
        "import syncedlyrics\n",
        "\n",
        "def lrc_to_srt(lrc_content):\n",
        "    lines = lrc_content.strip().split(\"\\n\")\n",
        "    srt_content = \"\"\n",
        "\n",
        "    for i in range(len(lines) - 1):\n",
        "        lrc_line = lines[i]\n",
        "        next_lrc_line = lines[i + 1]\n",
        "\n",
        "        # Extract timestamps and lyrics from the LRC file\n",
        "        lrc_timestamp, lrc_lyrics = lrc_line.split(\"]\", 1)\n",
        "        next_lrc_timestamp, _ = next_lrc_line.split(\"]\", 1)\n",
        "\n",
        "        lrc_timestamp = lrc_timestamp[1:]\n",
        "        next_lrc_timestamp = next_lrc_timestamp[1:]\n",
        "\n",
        "        # Format timestamps in SRT format (00:00:00,000 --> 00:00:00,000)\n",
        "        start_time = lrc_timestamp.replace(\".\", \",\")[:-1] + \"0\"\n",
        "        end_time = next_lrc_timestamp.replace(\".\", \",\")[:-1] + \"0\"\n",
        "\n",
        "        start_time = \"00:\" + start_time\n",
        "        end_time = \"00:\" + end_time\n",
        "\n",
        "        # Add formatted content to the .srt file\n",
        "        srt_content += f\"{i + 1}\\n{start_time} --> {end_time}\\n{lrc_lyrics.strip()}\\n\\n\"\n",
        "\n",
        "    return srt_content\n",
        "\n",
        "\n",
        "def convert_lrc_to_srt(lrc_file, srt_file):\n",
        "    with open(lrc_file, \"r\", encoding=\"utf-8\") as lrc:\n",
        "        lrc_content = lrc.read()\n",
        "\n",
        "    srt_content = lrc_to_srt(lrc_content)\n",
        "\n",
        "    with open(srt_file, \"w\", encoding=\"utf-8\") as srt:\n",
        "        srt.write(srt_content)\n",
        "\n",
        "\n",
        "search_term = \"WHITECHAPEL PROSTATIC FLUID\"\n",
        "input_path = \"/content/\" + search_term +\".lrc\"\n",
        "output_path = \"/content/\" + search_term + \".srt\"\n",
        "\n",
        "syncedlyrics.search(search_term, save_path = input_path)\n",
        "\n",
        "convert_lrc_to_srt(input_path, output_path)\n",
        "\n",
        "\n",
        "\n",
        "\n",
        "\n"
      ],
      "metadata": {
        "id": "tHjw21bJPFYE"
      },
      "execution_count": 8,
      "outputs": []
    }
  ]
}